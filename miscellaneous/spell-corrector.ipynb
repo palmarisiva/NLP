{
 "cells": [
  {
   "cell_type": "code",
   "execution_count": 9,
   "metadata": {},
   "outputs": [],
   "source": [
    "import re\n",
    "from collections import Counter"
   ]
  },
  {
   "cell_type": "code",
   "execution_count": 10,
   "metadata": {},
   "outputs": [],
   "source": [
    "# function to tokenise words\n",
    "def words(document):\n",
    "    \"Convert text to lower case and tokenise the document\"\n",
    "    return re.findall(r'\\w+', document.lower())"
   ]
  },
  {
   "cell_type": "code",
   "execution_count": 11,
   "metadata": {},
   "outputs": [],
   "source": [
    "# create a frequency table of all the words of the document\n",
    "all_words = Counter(words(open('big.txt').read()))"
   ]
  },
  {
   "cell_type": "code",
   "execution_count": 12,
   "metadata": {},
   "outputs": [
    {
     "data": {
      "text/plain": [
       "135"
      ]
     },
     "execution_count": 12,
     "metadata": {},
     "output_type": "execute_result"
    }
   ],
   "source": [
    "# check frequency of a random word, say, 'chair'\n",
    "all_words['chair']"
   ]
  },
  {
   "cell_type": "code",
   "execution_count": 13,
   "metadata": {},
   "outputs": [
    {
     "data": {
      "text/plain": [
       "[('the', 79809),\n",
       " ('of', 40024),\n",
       " ('and', 38312),\n",
       " ('to', 28765),\n",
       " ('in', 22023),\n",
       " ('a', 21124),\n",
       " ('that', 12512),\n",
       " ('he', 12401),\n",
       " ('was', 11410),\n",
       " ('it', 10681)]"
      ]
     },
     "execution_count": 13,
     "metadata": {},
     "output_type": "execute_result"
    }
   ],
   "source": [
    "# look at top 10 frequent words\n",
    "all_words.most_common(10)"
   ]
  },
  {
   "cell_type": "code",
   "execution_count": 29,
   "metadata": {},
   "outputs": [],
   "source": [
    "def edits_one(word):\n",
    "    \"Create all edits that are one edit away from `word`.\"\n",
    "    alphabets    = 'abcdefghijklmnopqrstuvwxyz'\n",
    "    splits     = [(word[:i], word[i:])                   for i in range(len(word) + 1)]\n",
    "    deletes    = [left + right[1:]                       for left, right in splits if right]\n",
    "    inserts    = [left + c + right                       for left, right in splits for c in alphabets]\n",
    "    replaces   = [left + c + right[1:]                   for left, right in splits if right for c in alphabets]\n",
    "    transposes = [left + right[1] + right[0] + right[2:] for left, right in splits if len(right)>1]\n",
    "    return set(deletes + inserts + replaces + transposes)"
   ]
  },
  {
   "cell_type": "code",
   "execution_count": 15,
   "metadata": {},
   "outputs": [],
   "source": [
    "def edits_two(word):\n",
    "    \"Create all edits that are two edits away from `word`.\"\n",
    "    return (e2 for e1 in edits_one(word) for e2 in edits_one(e1))"
   ]
  },
  {
   "cell_type": "code",
   "execution_count": 16,
   "metadata": {},
   "outputs": [],
   "source": [
    "def known(words):\n",
    "    \"The subset of `words` that appear in the `all_words`.\"\n",
    "    return set(word for word in words if word in all_words)"
   ]
  },
  {
   "cell_type": "code",
   "execution_count": 17,
   "metadata": {},
   "outputs": [],
   "source": [
    "def possible_corrections(word):\n",
    "    \"Generate possible spelling corrections for word.\"\n",
    "    return (known([word]) or known(edits_one(word)) or known(edits_two(word)) or [word])"
   ]
  },
  {
   "cell_type": "code",
   "execution_count": 18,
   "metadata": {},
   "outputs": [],
   "source": [
    "def prob(word, N=sum(all_words.values())): \n",
    "    \"Probability of `word`: Number of appearances of 'word' / total number of tokens\"\n",
    "    return all_words[word] / N"
   ]
  },
  {
   "cell_type": "code",
   "execution_count": 27,
   "metadata": {},
   "outputs": [],
   "source": [
    "def edits_one(word):\n",
    "    \"Create all edits that are one edit away from `word`.\"\n",
    "    alphabets    = 'abcdefghijklmnopqrstuvwxyz'\n",
    "    splits     = [(word[:i], word[i:])                   for i in range(len(word) + 1)]\n",
    "    deletes    = [left + right[1:]                       for left, right in splits if right]\n",
    "    print(deletes)\n",
    "    inserts    = [left + c + right                       for left, right in splits for c in alphabets]\n",
    "    print(inserts)\n",
    "    replaces   = [left + c + right[1:]                   for left, right in splits if right for c in alphabets]\n",
    "    print(replaces)\n",
    "    return splits"
   ]
  },
  {
   "cell_type": "code",
   "execution_count": 31,
   "metadata": {},
   "outputs": [
    {
     "name": "stdout",
     "output_type": "stream",
     "text": [
      "442\n"
     ]
    }
   ],
   "source": [
    "\n",
    "print(len(set(edits_one(\"emfasize\"))))"
   ]
  },
  {
   "cell_type": "code",
   "execution_count": 32,
   "metadata": {},
   "outputs": [
    {
     "name": "stdout",
     "output_type": "stream",
     "text": [
      "90902\n"
     ]
    }
   ],
   "source": [
    "print(len(set(edits_two(\"emfasize\"))))"
   ]
  },
  {
   "cell_type": "code",
   "execution_count": 19,
   "metadata": {},
   "outputs": [
    {
     "name": "stdout",
     "output_type": "stream",
     "text": [
      "336\n",
      "{'money', 'monnef', 'monneya', 'fonney', 'lmonney', 'monyey', 'nmonney', 'mounney', 'mojnney', 'monneg', 'mobnney', 'mouney', 'monnly', 'nonney', 'monvney', 'monncey', 'mxnney', 'msonney', 'monneyl', 'moxney', 'monnemy', 'mhnney', 'monnay', 'monnet', 'monneh', 'momnney', 'monfney', 'eonney', 'monmey', 'mofney', 'monmney', 'gmonney', 'monyney', 'monnen', 'emonney', 'monfey', 'monnefy', 'umonney', 'molney', 'bonney', 'monnuy', 'mooney', 'mnney', 'monnvy', 'ronney', 'monnel', 'monnew', 'vonney', 'monqney', 'zmonney', 'monneyh', 'mtnney', 'mponney', 'monnedy', 'monnhey', 'msnney', 'moeney', 'monoey', 'monneyp', 'oonney', 'monxey', 'ionney', 'omonney', 'moqney', 'monneyg', 'monneyy', 'mmnney', 'monnkey', 'mlnney', 'moxnney', 'monneyx', 'monnez', 'mknney', 'monned', 'mfonney', 'monnyey', 'monneqy', 'monneky', 'monneyq', 'manney', 'monnfy', 'monbney', 'monnewy', 'monner', 'muonney', 'montey', 'monnfey', 'monneyi', 'monnev', 'qonney', 'fmonney', 'mondey', 'mowney', 'mdonney', 'monnezy', 'tmonney', 'zonney', 'modney', 'mozney', 'monneey', 'monnejy', 'monneyd', 'montney', 'mopney', 'mkonney', 'moinney', 'monneo', 'monqey', 'mocnney', 'monkey', 'monkney', 'monneyt', 'monnpey', 'movnney', 'yonney', 'monnehy', 'mojney', 'monzney', 'mohney', 'moncey', 'monsney', 'mofnney', 'mopnney', 'monwney', 'monnmy', 'monneyu', 'monnky', 'moniey', 'monhey', 'mqnney', 'moyney', 'monnea', 'momney', 'aonney', 'munney', 'mznney', 'monnmey', 'monnek', 'molnney', 'monnry', 'amonney', 'mongney', 'mornney', 'monjey', 'tonney', 'monne', 'monzey', 'moanney', 'mpnney', 'motney', 'monneyj', 'mronney', 'monneyc', 'monrey', 'monneyb', 'mocney', 'monuney', 'monnaey', 'mrnney', 'pmonney', 'mmonney', 'monnuey', 'monnexy', 'moqnney', 'xonney', 'bmonney', 'monnem', 'monsey', 'qmonney', 'wonney', 'mognney', 'menney', 'monnej', 'ponney', 'mfnney', 'monnesy', 'monneu', 'monnqey', 'mvnney', 'monnevy', 'monnoy', 'monnsy', 'mgnney', 'moncney', 'monneyf', 'monnny', 'monnhy', 'monneye', 'moynney', 'dmonney', 'mononey', 'monnwey', 'imonney', 'mwnney', 'jmonney', 'mogney', 'mdnney', 'minney', 'mconney', 'monneyv', 'monney', 'sonney', 'motnney', 'moznney', 'monnee', 'monwey', 'monnex', 'monndey', 'donney', 'monnxy', 'monbey', 'monnxey', 'modnney', 'rmonney', 'mvonney', 'monpney', 'monnecy', 'mbonney', 'monuey', 'monnery', 'mokney', 'moneey', 'monneb', 'monpey', 'monndy', 'mobney', 'monneys', 'monneyr', 'monneyw', 'monneny', 'moneney', 'mjonney', 'monnpy', 'monncy', 'movney', 'hmonney', 'morney', 'moneny', 'mgonney', 'omnney', 'vmonney', 'monneym', 'conney', 'monlney', 'mosnney', 'mwonney', 'monnqy', 'xmonney', 'meonney', 'monvey', 'mnonney', 'mosney', 'mongey', 'monngy', 'monrney', 'mnnney', 'mlonney', 'monnec', 'monneyo', 'monneyn', 'monnjey', 'monnepy', 'uonney', 'monaey', 'maonney', 'mohnney', 'jonney', 'cmonney', 'monxney', 'monnety', 'gonney', 'monnoey', 'monhney', 'monnvey', 'moenney', 'lonney', 'wmonney', 'monnley', 'monnby', 'monniy', 'mzonney', 'kmonney', 'monniey', 'monjney', 'moiney', 'monneiy', 'monnely', 'monnty', 'monnye', 'mqonney', 'monnep', 'mnoney', 'monneby', 'myonney', 'moniney', 'mxonney', 'mionney', 'monnei', 'monnjy', 'konney', 'smonney', 'mbnney', 'monnzy', 'monngey', 'mcnney', 'mownney', 'monaney', 'monnwy', 'monny', 'moonney', 'monnzey', 'monnrey', 'mondney', 'monnbey', 'monnney', 'mynney', 'moknney', 'monnegy', 'monneyz', 'monnyy', 'moaney', 'monneoy', 'monntey', 'monneuy', 'monnes', 'mhonney', 'onney', 'monneyk', 'mtonney', 'monneay', 'mjnney', 'monley', 'monnsey', 'monneq', 'honney', 'ymonney'}\n"
     ]
    }
   ],
   "source": [
    "print(len(set(edits_one(\"monney\"))))\n",
    "print(edits_one(\"monney\"))"
   ]
  },
  {
   "cell_type": "code",
   "execution_count": 20,
   "metadata": {},
   "outputs": [
    {
     "name": "stdout",
     "output_type": "stream",
     "text": [
      "{'money', 'monkey'}\n"
     ]
    }
   ],
   "source": [
    "print(known(edits_one(\"monney\")))"
   ]
  },
  {
   "cell_type": "code",
   "execution_count": null,
   "metadata": {},
   "outputs": [],
   "source": [
    "# Let's look at words that are two edits away\n",
    "print(len(set(edits_two(\"monney\"))))\n",
    "print(known(edits_one(\"monney\")))"
   ]
  },
  {
   "cell_type": "code",
   "execution_count": null,
   "metadata": {},
   "outputs": [],
   "source": [
    "# Let's look at possible corrections of a word\n",
    "print(possible_corrections(\"monney\"))"
   ]
  },
  {
   "cell_type": "code",
   "execution_count": 33,
   "metadata": {},
   "outputs": [
    {
     "name": "stdout",
     "output_type": "stream",
     "text": [
      "{'emphasize'}\n"
     ]
    }
   ],
   "source": [
    "print(possible_corrections(\"emfasize\"))"
   ]
  },
  {
   "cell_type": "code",
   "execution_count": null,
   "metadata": {},
   "outputs": [],
   "source": [
    "# Let's look at probability of a word\n",
    "print(prob(\"money\"))\n",
    "print(prob(\"monkey\"))"
   ]
  },
  {
   "cell_type": "code",
   "execution_count": null,
   "metadata": {},
   "outputs": [],
   "source": [
    "def spell_check(word):\n",
    "    \"Print the most probable spelling correction for `word` out of all the `possible_corrections`\"\n",
    "    correct_word = max(possible_corrections(word), key=prob)\n",
    "    if correct_word != word:\n",
    "        return \"Did you mean \" + correct_word + \"?\"\n",
    "    else:\n",
    "        return \"Correct spelling.\""
   ]
  },
  {
   "cell_type": "code",
   "execution_count": null,
   "metadata": {},
   "outputs": [],
   "source": [
    "# test spell check\n",
    "print(spell_check(\"monney\"))"
   ]
  }
 ],
 "metadata": {
  "kernelspec": {
   "display_name": "Python 3",
   "language": "python",
   "name": "python3"
  },
  "language_info": {
   "codemirror_mode": {
    "name": "ipython",
    "version": 3
   },
   "file_extension": ".py",
   "mimetype": "text/x-python",
   "name": "python",
   "nbconvert_exporter": "python",
   "pygments_lexer": "ipython3",
   "version": "3.7.3"
  }
 },
 "nbformat": 4,
 "nbformat_minor": 2
}
